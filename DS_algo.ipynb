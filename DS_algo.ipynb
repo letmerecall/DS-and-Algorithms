{
 "cells": [
  {
   "cell_type": "markdown",
   "metadata": {},
   "source": [
    "## Data Structure"
   ]
  },
  {
   "cell_type": "markdown",
   "metadata": {},
   "source": [
    "### 1. Linked List"
   ]
  },
  {
   "cell_type": "code",
   "execution_count": 43,
   "metadata": {
    "collapsed": true
   },
   "outputs": [],
   "source": [
    "#Implementation of linked stacks\n",
    "class Node(object):\n",
    "    def __init__(self, data):\n",
    "        self.data = data\n",
    "        self.next = None\n",
    "\n",
    "class LinkedList(object):\n",
    "    def __init__(self, head=None):\n",
    "        self.head = head\n",
    "        \n",
    "    #this function add a new element to the ed of our liked list\n",
    "    def add(self, value):\n",
    "        new_node = Node(value)\n",
    "        current = self.head\n",
    "        if self.head:\n",
    "            while current.next:\n",
    "                current = current.next\n",
    "            current.next = new_node\n",
    "        else:\n",
    "            self.head = new_node\n",
    "            \n",
    "    #to get the value at a particular position        \n",
    "    def get_position(self, position):\n",
    "        current = self.head\n",
    "        pos = position\n",
    "        while pos!=1:\n",
    "            current = current.next\n",
    "            pos = pos-1\n",
    "        if current.data:\n",
    "            return current.data\n",
    "        else:\n",
    "            return None\n",
    "        \n",
    "    #function to insert at a given position\n",
    "    def insert(self, position, value):\n",
    "        new_node = Node(value)\n",
    "        current = self.head\n",
    "        pos = position\n",
    "        \n",
    "        if self.head:\n",
    "            while pos!=2:\n",
    "                current = current.next\n",
    "                pos = pos - 1\n",
    "            next_node = current.next\n",
    "            \n",
    "            new_node.next = next_node\n",
    "            current.next = new_node\n",
    "            \n",
    "        else:\n",
    "            self.head = new_node\n",
    "            \n",
    "    # to delete the first node with the given value\n",
    "    def delete(self, value):\n",
    "        current = self.head\n",
    "        if self.head:\n",
    "            if current.data == value:\n",
    "                self.head = current.next\n",
    "                current.next = None\n",
    "            \n",
    "            else:\n",
    "                while current.next:\n",
    "                    prev = current\n",
    "                    current = current.next\n",
    "                    if current.data == value:\n",
    "                        prev.next = current.next\n",
    "                        current.next = None\n",
    "                        break\n",
    "                        \n",
    "            "
   ]
  },
  {
   "cell_type": "code",
   "execution_count": 64,
   "metadata": {
    "collapsed": true
   },
   "outputs": [],
   "source": [
    "ll1 = LinkedList()"
   ]
  },
  {
   "cell_type": "code",
   "execution_count": 84,
   "metadata": {
    "collapsed": true
   },
   "outputs": [],
   "source": [
    "ll1.add(1)\n",
    "ll1.add(2)\n",
    "ll1.add(3)\n",
    "ll1.add(4)\n",
    "ll1.add(4)\n",
    "ll1.add(5)\n",
    "ll1.add(5)\n",
    "ll1.add(5)"
   ]
  },
  {
   "cell_type": "code",
   "execution_count": 87,
   "metadata": {},
   "outputs": [
    {
     "name": "stdout",
     "output_type": "stream",
     "text": [
      "2\n",
      "3\n",
      "5\n",
      "5\n"
     ]
    }
   ],
   "source": [
    "print ll1.get_position(1)\n",
    "print ll1.get_position(2)\n",
    "print ll1.get_position(3)\n",
    "print ll1.get_position(4)\n",
    "\n",
    "\n",
    "\n",
    "\n"
   ]
  },
  {
   "cell_type": "code",
   "execution_count": 86,
   "metadata": {
    "collapsed": true
   },
   "outputs": [],
   "source": [
    "ll1.delete(8)"
   ]
  },
  {
   "cell_type": "markdown",
   "metadata": {
    "collapsed": true
   },
   "source": [
    "### 2. Stacks"
   ]
  },
  {
   "cell_type": "code",
   "execution_count": 174,
   "metadata": {
    "collapsed": true
   },
   "outputs": [],
   "source": [
    "#implementing the stack\n",
    "class Node(object):\n",
    "    def __init__(self,data):\n",
    "        self.data = data\n",
    "        self.next = None\n",
    "        \n",
    "\n",
    "class Stack(object):\n",
    "    def __init__(self):\n",
    "        self.top = None\n",
    "    \n",
    "    def pop(self):\n",
    "        Top = self.top\n",
    "        top_next = self.top.next\n",
    "        self.top = top_next\n",
    "        Top.next = None\n",
    "        \n",
    "            \n",
    "            \n",
    "        \n",
    "        \n",
    "    def push(self,data):\n",
    "        Top = self.top\n",
    "        new_node = Node(data)\n",
    "        if self.top:\n",
    "            new_node.next = Top\n",
    "            self.top = new_node\n",
    "            print \"Node exist and pushsucessful\"\n",
    "        else:\n",
    "            self.top = new_node\n",
    "            new_node.next = None\n",
    "            print\"first node to the stack is added\"\n",
    "            \n",
    "        \n",
    "        \n",
    "        \n",
    "    def TTop(self):\n",
    "        Top = self.top\n",
    "        return Top.data\n",
    "    \n",
    "    def printnodes(self):\n",
    "        Top = self.top\n",
    "        while Top.next:\n",
    "            print Top.data\n",
    "            Top = Top.next\n",
    "        print Top.data"
   ]
  },
  {
   "cell_type": "markdown",
   "metadata": {},
   "source": [
    "### 3. Queue "
   ]
  },
  {
   "cell_type": "code",
   "execution_count": 146,
   "metadata": {
    "collapsed": true
   },
   "outputs": [],
   "source": [
    "#implementing stacks\n",
    "class Node(object):\n",
    "    def __init__(self,data):\n",
    "        self.data = data\n",
    "        self.next = None\n",
    "        \n",
    "class Queues(object):\n",
    "    def __init__(self):\n",
    "        self.head = None\n",
    "        self.tail = None\n",
    "    \n",
    "    def enqueue(self,data):\n",
    "        new_node = Node(data)\n",
    "        if self.head:\n",
    "            head_node = self.head\n",
    "            head_node.next = new_node\n",
    "            self.head = new_node\n",
    "            new_node.next = None\n",
    "            print\"pushed:%d\"%self.head.data\n",
    "            \n",
    "        \n",
    "        else:\n",
    "            self.head = new_node\n",
    "            self.tail = new_node\n",
    "            new_node.next = None\n",
    "            print \"First node inserted:%d\"%new_node.data\n",
    "        \n",
    "    def delque(self):\n",
    "        if self.tail.next:\n",
    "            tail_node = self.tail\n",
    "            tail_node_data = tail_node.data\n",
    "            tail_next = tail_node.next\n",
    "            self.tail = tail_next\n",
    "            print\"deleted tail node:%d\"%tail_node_data\n",
    "        else:\n",
    "            self.tail = None\n",
    "            self.head = None\n",
    "            print\"Queue empty\"\n",
    "    \n",
    "    def ppprint(self):\n",
    "        tail_node = self.tail\n",
    "        while tail_node.next:\n",
    "            print tail_node.data\n",
    "            tail_node = tail_node.next\n",
    "        print tail_node.data\n",
    "    def ttail(self):\n",
    "        print self.tail.data\n",
    "        "
   ]
  },
  {
   "cell_type": "markdown",
   "metadata": {},
   "source": [
    "### 4. Trees "
   ]
  },
  {
   "cell_type": "markdown",
   "metadata": {},
   "source": [
    "## Algorithms"
   ]
  },
  {
   "cell_type": "markdown",
   "metadata": {},
   "source": [
    "### Binary search "
   ]
  },
  {
   "cell_type": "markdown",
   "metadata": {},
   "source": [
    "#### For binary search algorithm we should have our array Sorted"
   ]
  },
  {
   "cell_type": "code",
   "execution_count": null,
   "metadata": {
    "collapsed": true
   },
   "outputs": [],
   "source": []
  },
  {
   "cell_type": "markdown",
   "metadata": {},
   "source": [
    "### Selection Sort"
   ]
  },
  {
   "cell_type": "code",
   "execution_count": 7,
   "metadata": {},
   "outputs": [
    {
     "name": "stdout",
     "output_type": "stream",
     "text": [
      "[1, 4, 6, 6, 7, 22, 23, 32, 43, 45, 46, 54, 56, 76, 675, 676]\n"
     ]
    }
   ],
   "source": [
    "arr1 = [45,22,676,43,32,1,54,6,675,4,23,46,6,76,7,56]\n",
    "\n",
    "for i in range(len(arr1)):\n",
    "    smallest = i\n",
    "    for j in range(i+1, len(arr1)):\n",
    "        if arr1[smallest] > arr1[j]:\n",
    "            smallest = j\n",
    "    arr1[smallest], arr1[i] = arr1[i], arr1[smallest]\n",
    "    \n",
    "print(arr1)"
   ]
  },
  {
   "cell_type": "markdown",
   "metadata": {},
   "source": [
    "###  Insertion Sort"
   ]
  },
  {
   "cell_type": "markdown",
   "metadata": {},
   "source": [
    "- In selection sort when we are deciding the position of the book n i(th) index, the first i(th) books are in their correct position i.e. they are sorted alphabetically\n",
    "- However, when we deciding the position of i(th) book in Insertion Sort, the first i(th) books are sorted in themselves.\n",
    "- The test in step 1B relies on the “and” operator being short circuiting:\n",
    "if the expression on the left, j > 0, is false, then it does not evaluate\n",
    "the expression on the right, A[j] > key. If it did attempt to access A[j]\n",
    "when j <= 0, an array indexing error would occur.\n",
    "\n",
    "- Selection sort has one40\n",
    "Chapter 3: Algorithms for Sorting and Searching\n",
    "advantage over insertion sort, however: selection sort moves elements\n",
    "O(n) times no matter what, but insertion sort could move elements up\n",
    "to O(n^2) times, since each execution of step 1Bi of I NSERTION -S ORT\n",
    "moves an element.\n"
   ]
  },
  {
   "cell_type": "code",
   "execution_count": 67,
   "metadata": {
    "scrolled": true
   },
   "outputs": [
    {
     "name": "stdout",
     "output_type": "stream",
     "text": [
      "[1, 4, 6, 6, 7, 22, 23, 32, 43, 45, 46, 54, 56, 76, 675, 676]\n"
     ]
    }
   ],
   "source": [
    "arr = [45,22,676,43,32,1,54,6,675,4,23,46,6,76,7,56]\n",
    "\n",
    "for i in range(1,len(arr)):\n",
    "    key = arr[i]\n",
    "    j = i-1\n",
    "    while((j>=0) and (arr[j]>key)):\n",
    "        arr[j+1] = arr[j]\n",
    "        j-=1\n",
    "    arr[j+1] = key\n",
    "            \n",
    "        \n",
    "print(arr)"
   ]
  },
  {
   "cell_type": "markdown",
   "metadata": {
    "collapsed": true
   },
   "source": [
    "### Merge Sort "
   ]
  },
  {
   "cell_type": "code",
   "execution_count": 78,
   "metadata": {
    "collapsed": true
   },
   "outputs": [],
   "source": [
    "arr = [45,22,676,43,32,1,54,6,675,4,23,46,6,76,7,56]\n",
    "\n",
    "def merge_sort(arr, p,r):\n",
    "    if p<r:\n",
    "        q = (p+r)/2\n",
    "        merge_sort(arr, p,q)\n",
    "        merge_sort(arr, q+1, r)\n",
    "        merge(arr, p, q, r)\n",
    "    else:\n",
    "        pass\n",
    "        \n",
    "        \n",
    "def merge(arr, p, q, r):\n",
    "    arr1 = arr[p:q+1]\n",
    "    arr1.append(100000000000000000)\n",
    "    arr2 = arr[q+1:r+1]\n",
    "    arr2.append(100000000000000000)\n",
    "    new_arr = []\n",
    "    index1 = 0\n",
    "    index2 = 0\n",
    "    for i in range(p,r+1):\n",
    "        if arr1[index1] <= arr2[index2]:\n",
    "            arr[i] = arr1[index1]\n",
    "            index1+=1\n",
    "        else:\n",
    "            arr[i] = arr2[index2]\n",
    "            index2+=1  "
   ]
  },
  {
   "cell_type": "code",
   "execution_count": 79,
   "metadata": {
    "collapsed": true
   },
   "outputs": [],
   "source": [
    "merge_sort(arr, 0, 15)"
   ]
  },
  {
   "cell_type": "code",
   "execution_count": 80,
   "metadata": {},
   "outputs": [
    {
     "data": {
      "text/plain": [
       "[1, 4, 6, 6, 7, 22, 23, 32, 43, 45, 46, 54, 56, 76, 675, 676]"
      ]
     },
     "execution_count": 80,
     "metadata": {},
     "output_type": "execute_result"
    }
   ],
   "source": [
    "arr"
   ]
  },
  {
   "cell_type": "markdown",
   "metadata": {},
   "source": [
    "### Quick Sort"
   ]
  },
  {
   "cell_type": "code",
   "execution_count": 101,
   "metadata": {},
   "outputs": [
    {
     "name": "stdout",
     "output_type": "stream",
     "text": [
      "[45, 22, 43, 32, 1, 54, 6, 4, 23, 46, 6, 7, 56, 76, 676, 675]\n",
      "[1, 6, 4, 6, 7, 54, 22, 43, 23, 46, 32, 45, 56, 76, 676, 675]\n",
      "[1, 6, 4, 6, 7, 54, 22, 43, 23, 46, 32, 45, 56, 76, 676, 675]\n",
      "[1, 4, 6, 6, 7, 54, 22, 43, 23, 46, 32, 45, 56, 76, 676, 675]\n",
      "[1, 4, 6, 6, 7, 22, 43, 23, 32, 45, 54, 46, 56, 76, 676, 675]\n",
      "[1, 4, 6, 6, 7, 22, 23, 32, 43, 45, 54, 46, 56, 76, 676, 675]\n",
      "[1, 4, 6, 6, 7, 22, 23, 32, 43, 45, 54, 46, 56, 76, 676, 675]\n",
      "[1, 4, 6, 6, 7, 22, 23, 32, 43, 45, 46, 54, 56, 76, 676, 675]\n",
      "[1, 4, 6, 6, 7, 22, 23, 32, 43, 45, 46, 54, 56, 76, 675, 676]\n",
      "[1, 4, 6, 6, 7, 22, 23, 32, 43, 45, 46, 54, 56, 76, 675, 676]\n"
     ]
    }
   ],
   "source": [
    "arr = [45,22,676,43,32,1,54,6,675,4,23,46,6,76,7,56]\n",
    "\n",
    "def quick_sort(arr, p, r):\n",
    "    if p<r:\n",
    "        q = partition(arr, p, r)\n",
    "        quick_sort(arr, p, q-1)\n",
    "        quick_sort(arr, q+1, r)\n",
    "        \n",
    "def partition(arr, p, r):\n",
    "    q = p\n",
    "    for u in range(p,r):\n",
    "        if arr[u] <= arr[r]:\n",
    "            arr[u], arr[q] = arr[q], arr[u]\n",
    "            q +=1\n",
    "    arr[q], arr[r] = arr[r], arr[q]\n",
    "    print(arr)\n",
    "    return q    \n",
    "    \n",
    "            \n",
    "quick_sort(arr, 0, 15)\n",
    "print(arr)"
   ]
  },
  {
   "cell_type": "code",
   "execution_count": 84,
   "metadata": {},
   "outputs": [
    {
     "data": {
      "text/plain": [
       "[45, 22, 676, 43, 32, 1, 54, 6, 675, 4, 23, 46, 6, 76, 7, 56]"
      ]
     },
     "execution_count": 84,
     "metadata": {},
     "output_type": "execute_result"
    }
   ],
   "source": [
    "arr"
   ]
  },
  {
   "cell_type": "markdown",
   "metadata": {
    "collapsed": true
   },
   "source": [
    "## Graphs"
   ]
  },
  {
   "cell_type": "markdown",
   "metadata": {},
   "source": [
    "#### Adjacency Matrix Method"
   ]
  },
  {
   "cell_type": "code",
   "execution_count": 52,
   "metadata": {},
   "outputs": [],
   "source": [
    "class Graph:\n",
    "    def __init__(self, numVertex):\n",
    "        self.adjMatrix = [[-1]*numVertex for i in range(numVertex)]\n",
    "        self.numVertex = numVertex\n",
    "        self.vertices = {}\n",
    "        self.vertexList = [0]*numVertex\n",
    "    \n",
    "    def set_vertex(self, vertex, id):\n",
    "        if 0<=vertex<self.numVertex:\n",
    "            self.vertices[id] = vertex\n",
    "            self.vertexList[vertex] = id\n",
    "    def set_edge(self, fromNode, toNode, weight=0):\n",
    "        frm = self.vertices[fromNode]\n",
    "        to = self.vertices[toNode]\n",
    "        self.adjMatrix[frm][to] = weight\n",
    "        \n",
    "    def get_edges(self):\n",
    "        edges = []\n",
    "        for i in range(self.numVertex):\n",
    "            for j in range(self.numVertex):\n",
    "                if self.adjMatrix[i][j]!=-1:\n",
    "                    edges.append((self.vertexList[i], self.vertexList[j], self.adjMatrix[i][j]))\n",
    "        return edges\n",
    "        \n",
    "    def get_matrix(self):\n",
    "        return self.adjMatrix"
   ]
  },
  {
   "cell_type": "code",
   "execution_count": 53,
   "metadata": {},
   "outputs": [],
   "source": [
    "a = Graph(7)"
   ]
  },
  {
   "cell_type": "code",
   "execution_count": 54,
   "metadata": {},
   "outputs": [
    {
     "name": "stdout",
     "output_type": "stream",
     "text": [
      "[[-1, -1, -1, -1, -1, -1, -1], [-1, -1, -1, -1, -1, -1, -1], [-1, -1, -1, -1, -1, -1, -1], [-1, -1, -1, -1, -1, -1, -1], [-1, -1, -1, -1, -1, -1, -1], [-1, -1, -1, -1, -1, -1, -1], [-1, -1, -1, -1, -1, -1, -1]]\n",
      "[]\n"
     ]
    }
   ],
   "source": [
    "print(a.get_matrix())\n",
    "print(a.get_edges())"
   ]
  },
  {
   "cell_type": "code",
   "execution_count": 55,
   "metadata": {},
   "outputs": [],
   "source": [
    "a.set_vertex(0,'a')\n",
    "a.set_vertex(1,'b')\n",
    "a.set_vertex(2,'c')\n",
    "a.set_vertex(3,'d')\n",
    "a.set_vertex(4,'e')\n",
    "a.set_vertex(5,'f')"
   ]
  },
  {
   "cell_type": "code",
   "execution_count": 56,
   "metadata": {},
   "outputs": [],
   "source": [
    "a.set_edge('a', 'b')"
   ]
  },
  {
   "cell_type": "code",
   "execution_count": 57,
   "metadata": {
    "collapsed": true
   },
   "outputs": [],
   "source": [
    "a.set_edge('b', 'c', 5)\\"
   ]
  },
  {
   "cell_type": "code",
   "execution_count": 58,
   "metadata": {
    "collapsed": true
   },
   "outputs": [],
   "source": [
    "a.set_edge('a','c', 6)"
   ]
  },
  {
   "cell_type": "code",
   "execution_count": 59,
   "metadata": {
    "collapsed": true
   },
   "outputs": [],
   "source": [
    "a.set_edge('d', 'e', 78)"
   ]
  },
  {
   "cell_type": "code",
   "execution_count": 60,
   "metadata": {
    "collapsed": true
   },
   "outputs": [],
   "source": [
    "a.set_edge('d', 'f')"
   ]
  },
  {
   "cell_type": "code",
   "execution_count": 61,
   "metadata": {},
   "outputs": [
    {
     "name": "stdout",
     "output_type": "stream",
     "text": [
      "[[-1, 0, 6, -1, -1, -1, -1], [-1, -1, 5, -1, -1, -1, -1], [-1, -1, -1, -1, -1, -1, -1], [-1, -1, -1, -1, 78, 0, -1], [-1, -1, -1, -1, -1, -1, -1], [-1, -1, -1, -1, -1, -1, -1], [-1, -1, -1, -1, -1, -1, -1]]\n",
      "[('a', 'b', 0), ('a', 'c', 6), ('b', 'c', 5), ('d', 'e', 78), ('d', 'f', 0)]\n"
     ]
    }
   ],
   "source": [
    "print(a.get_matrix())\n",
    "print(a.get_edges())"
   ]
  },
  {
   "cell_type": "markdown",
   "metadata": {},
   "source": [
    "#### Adjacency List Method"
   ]
  },
  {
   "cell_type": "code",
   "execution_count": 40,
   "metadata": {},
   "outputs": [],
   "source": [
    "class AdjNode:\n",
    "    def __init__(self,data):\n",
    "        self.vertex = data\n",
    "        self.next = None\n",
    "\n",
    "class Graph:\n",
    "    def __init__(self, V):\n",
    "        self.V = V\n",
    "        self.graph = [None]*V\n",
    "        \n",
    "    def add_edge(self,src,dest):\n",
    "        node = AdjNode(dest)\n",
    "        node.next = self.graph[src]\n",
    "        self.graph[src] = node\n",
    "\n",
    "        \n",
    "        node = AdjNode(src)\n",
    "        node.next = self.graph[dest]\n",
    "        self.graph[dest] = node\n",
    "        \n",
    "        \n",
    "    def print_graph(self):\n",
    "        for i in range(self.V):\n",
    "            print(\"Adjacency list of vertex {}\\n head\".format(i), end=\"\") \n",
    "            temp = self.graph[i]\n",
    "            while temp:\n",
    "                print(\" -> {}\".format(temp.vertex), end=\"\") \n",
    "                temp = temp.next\n",
    "            print(\"\\n\")\n"
   ]
  },
  {
   "cell_type": "code",
   "execution_count": 47,
   "metadata": {
    "collapsed": true
   },
   "outputs": [],
   "source": [
    "a = Graph(4)"
   ]
  },
  {
   "cell_type": "code",
   "execution_count": 48,
   "metadata": {},
   "outputs": [],
   "source": [
    "a.add_edge(0,1)"
   ]
  },
  {
   "cell_type": "code",
   "execution_count": 49,
   "metadata": {},
   "outputs": [],
   "source": [
    "a.add_edge(0,3)"
   ]
  },
  {
   "cell_type": "code",
   "execution_count": null,
   "metadata": {
    "collapsed": true
   },
   "outputs": [],
   "source": []
  },
  {
   "cell_type": "code",
   "execution_count": 50,
   "metadata": {
    "collapsed": true
   },
   "outputs": [],
   "source": [
    "a.add_edge(1,3)"
   ]
  },
  {
   "cell_type": "code",
   "execution_count": 51,
   "metadata": {},
   "outputs": [
    {
     "name": "stdout",
     "output_type": "stream",
     "text": [
      "Adjacency list of vertex 0\n",
      " head -> 3 -> 1\n",
      "\n",
      "Adjacency list of vertex 1\n",
      " head -> 3 -> 0\n",
      "\n",
      "Adjacency list of vertex 2\n",
      " head\n",
      "\n",
      "Adjacency list of vertex 3\n",
      " head -> 1 -> 0\n",
      "\n"
     ]
    }
   ],
   "source": [
    "a.print_graph()"
   ]
  },
  {
   "cell_type": "code",
   "execution_count": null,
   "metadata": {
    "collapsed": true
   },
   "outputs": [],
   "source": []
  },
  {
   "cell_type": "code",
   "execution_count": null,
   "metadata": {
    "collapsed": true
   },
   "outputs": [],
   "source": []
  }
 ],
 "metadata": {
  "kernelspec": {
   "display_name": "saas-docprocessing",
   "language": "python",
   "name": "saas-docprocessing"
  },
  "language_info": {
   "codemirror_mode": {
    "name": "ipython",
    "version": 3
   },
   "file_extension": ".py",
   "mimetype": "text/x-python",
   "name": "python",
   "nbconvert_exporter": "python",
   "pygments_lexer": "ipython3",
   "version": "3.5.2"
  }
 },
 "nbformat": 4,
 "nbformat_minor": 2
}
